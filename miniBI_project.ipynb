{
 "cells": [
  {
   "cell_type": "code",
   "execution_count": 4,
   "id": "9d3f800c-bf4d-40dc-8a5e-d835dcfcd977",
   "metadata": {},
   "outputs": [],
   "source": [
    "import pandas as pd\n",
    "import matplotlib.pyplot as plt\n",
    "import seaborn as sns\n",
    "import numpy as np\n",
    "\n",
    "%matplotlib inline"
   ]
  },
  {
   "cell_type": "code",
   "execution_count": 5,
   "id": "809bc3a8-f82c-4ba0-84cc-b754d64a1030",
   "metadata": {},
   "outputs": [],
   "source": [
    "df = pd.read_csv(\"USA_Housing_Dataset.csv\")"
   ]
  },
  {
   "cell_type": "code",
   "execution_count": 6,
   "id": "3f1012fe-f36e-4b2c-bc30-7cd29e056213",
   "metadata": {},
   "outputs": [
    {
     "data": {
      "text/html": [
       "<div>\n",
       "<style scoped>\n",
       "    .dataframe tbody tr th:only-of-type {\n",
       "        vertical-align: middle;\n",
       "    }\n",
       "\n",
       "    .dataframe tbody tr th {\n",
       "        vertical-align: top;\n",
       "    }\n",
       "\n",
       "    .dataframe thead th {\n",
       "        text-align: right;\n",
       "    }\n",
       "</style>\n",
       "<table border=\"1\" class=\"dataframe\">\n",
       "  <thead>\n",
       "    <tr style=\"text-align: right;\">\n",
       "      <th></th>\n",
       "      <th>date</th>\n",
       "      <th>price</th>\n",
       "      <th>bedrooms</th>\n",
       "      <th>bathrooms</th>\n",
       "      <th>sqft_living</th>\n",
       "      <th>sqft_lot</th>\n",
       "      <th>floors</th>\n",
       "      <th>waterfront</th>\n",
       "      <th>view</th>\n",
       "      <th>condition</th>\n",
       "      <th>sqft_above</th>\n",
       "      <th>sqft_basement</th>\n",
       "      <th>yr_built</th>\n",
       "      <th>yr_renovated</th>\n",
       "      <th>street</th>\n",
       "      <th>city</th>\n",
       "      <th>statezip</th>\n",
       "      <th>country</th>\n",
       "    </tr>\n",
       "  </thead>\n",
       "  <tbody>\n",
       "    <tr>\n",
       "      <th>0</th>\n",
       "      <td>2014-05-09 00:00:00</td>\n",
       "      <td>3.760000e+05</td>\n",
       "      <td>3.0</td>\n",
       "      <td>2.00</td>\n",
       "      <td>1340</td>\n",
       "      <td>1384</td>\n",
       "      <td>3.0</td>\n",
       "      <td>0</td>\n",
       "      <td>0</td>\n",
       "      <td>3</td>\n",
       "      <td>1340</td>\n",
       "      <td>0</td>\n",
       "      <td>2008</td>\n",
       "      <td>0</td>\n",
       "      <td>9245-9249 Fremont Ave N</td>\n",
       "      <td>Seattle</td>\n",
       "      <td>WA 98103</td>\n",
       "      <td>USA</td>\n",
       "    </tr>\n",
       "    <tr>\n",
       "      <th>1</th>\n",
       "      <td>2014-05-09 00:00:00</td>\n",
       "      <td>8.000000e+05</td>\n",
       "      <td>4.0</td>\n",
       "      <td>3.25</td>\n",
       "      <td>3540</td>\n",
       "      <td>159430</td>\n",
       "      <td>2.0</td>\n",
       "      <td>0</td>\n",
       "      <td>0</td>\n",
       "      <td>3</td>\n",
       "      <td>3540</td>\n",
       "      <td>0</td>\n",
       "      <td>2007</td>\n",
       "      <td>0</td>\n",
       "      <td>33001 NE 24th St</td>\n",
       "      <td>Carnation</td>\n",
       "      <td>WA 98014</td>\n",
       "      <td>USA</td>\n",
       "    </tr>\n",
       "    <tr>\n",
       "      <th>2</th>\n",
       "      <td>2014-05-09 00:00:00</td>\n",
       "      <td>2.238888e+06</td>\n",
       "      <td>5.0</td>\n",
       "      <td>6.50</td>\n",
       "      <td>7270</td>\n",
       "      <td>130017</td>\n",
       "      <td>2.0</td>\n",
       "      <td>0</td>\n",
       "      <td>0</td>\n",
       "      <td>3</td>\n",
       "      <td>6420</td>\n",
       "      <td>850</td>\n",
       "      <td>2010</td>\n",
       "      <td>0</td>\n",
       "      <td>7070 270th Pl SE</td>\n",
       "      <td>Issaquah</td>\n",
       "      <td>WA 98029</td>\n",
       "      <td>USA</td>\n",
       "    </tr>\n",
       "    <tr>\n",
       "      <th>3</th>\n",
       "      <td>2014-05-09 00:00:00</td>\n",
       "      <td>3.240000e+05</td>\n",
       "      <td>3.0</td>\n",
       "      <td>2.25</td>\n",
       "      <td>998</td>\n",
       "      <td>904</td>\n",
       "      <td>2.0</td>\n",
       "      <td>0</td>\n",
       "      <td>0</td>\n",
       "      <td>3</td>\n",
       "      <td>798</td>\n",
       "      <td>200</td>\n",
       "      <td>2007</td>\n",
       "      <td>0</td>\n",
       "      <td>820 NW 95th St</td>\n",
       "      <td>Seattle</td>\n",
       "      <td>WA 98117</td>\n",
       "      <td>USA</td>\n",
       "    </tr>\n",
       "    <tr>\n",
       "      <th>4</th>\n",
       "      <td>2014-05-10 00:00:00</td>\n",
       "      <td>5.499000e+05</td>\n",
       "      <td>5.0</td>\n",
       "      <td>2.75</td>\n",
       "      <td>3060</td>\n",
       "      <td>7015</td>\n",
       "      <td>1.0</td>\n",
       "      <td>0</td>\n",
       "      <td>0</td>\n",
       "      <td>5</td>\n",
       "      <td>1600</td>\n",
       "      <td>1460</td>\n",
       "      <td>1979</td>\n",
       "      <td>0</td>\n",
       "      <td>10834 31st Ave SW</td>\n",
       "      <td>Seattle</td>\n",
       "      <td>WA 98146</td>\n",
       "      <td>USA</td>\n",
       "    </tr>\n",
       "    <tr>\n",
       "      <th>...</th>\n",
       "      <td>...</td>\n",
       "      <td>...</td>\n",
       "      <td>...</td>\n",
       "      <td>...</td>\n",
       "      <td>...</td>\n",
       "      <td>...</td>\n",
       "      <td>...</td>\n",
       "      <td>...</td>\n",
       "      <td>...</td>\n",
       "      <td>...</td>\n",
       "      <td>...</td>\n",
       "      <td>...</td>\n",
       "      <td>...</td>\n",
       "      <td>...</td>\n",
       "      <td>...</td>\n",
       "      <td>...</td>\n",
       "      <td>...</td>\n",
       "      <td>...</td>\n",
       "    </tr>\n",
       "    <tr>\n",
       "      <th>4135</th>\n",
       "      <td>2014-07-09 00:00:00</td>\n",
       "      <td>3.081667e+05</td>\n",
       "      <td>3.0</td>\n",
       "      <td>1.75</td>\n",
       "      <td>1510</td>\n",
       "      <td>6360</td>\n",
       "      <td>1.0</td>\n",
       "      <td>0</td>\n",
       "      <td>0</td>\n",
       "      <td>4</td>\n",
       "      <td>1510</td>\n",
       "      <td>0</td>\n",
       "      <td>1954</td>\n",
       "      <td>1979</td>\n",
       "      <td>501 N 143rd St</td>\n",
       "      <td>Seattle</td>\n",
       "      <td>WA 98133</td>\n",
       "      <td>USA</td>\n",
       "    </tr>\n",
       "    <tr>\n",
       "      <th>4136</th>\n",
       "      <td>2014-07-09 00:00:00</td>\n",
       "      <td>5.343333e+05</td>\n",
       "      <td>3.0</td>\n",
       "      <td>2.50</td>\n",
       "      <td>1460</td>\n",
       "      <td>7573</td>\n",
       "      <td>2.0</td>\n",
       "      <td>0</td>\n",
       "      <td>0</td>\n",
       "      <td>3</td>\n",
       "      <td>1460</td>\n",
       "      <td>0</td>\n",
       "      <td>1983</td>\n",
       "      <td>2009</td>\n",
       "      <td>14855 SE 10th Pl</td>\n",
       "      <td>Bellevue</td>\n",
       "      <td>WA 98007</td>\n",
       "      <td>USA</td>\n",
       "    </tr>\n",
       "    <tr>\n",
       "      <th>4137</th>\n",
       "      <td>2014-07-09 00:00:00</td>\n",
       "      <td>4.169042e+05</td>\n",
       "      <td>3.0</td>\n",
       "      <td>2.50</td>\n",
       "      <td>3010</td>\n",
       "      <td>7014</td>\n",
       "      <td>2.0</td>\n",
       "      <td>0</td>\n",
       "      <td>0</td>\n",
       "      <td>3</td>\n",
       "      <td>3010</td>\n",
       "      <td>0</td>\n",
       "      <td>2009</td>\n",
       "      <td>0</td>\n",
       "      <td>759 Ilwaco Pl NE</td>\n",
       "      <td>Renton</td>\n",
       "      <td>WA 98059</td>\n",
       "      <td>USA</td>\n",
       "    </tr>\n",
       "    <tr>\n",
       "      <th>4138</th>\n",
       "      <td>2014-07-10 00:00:00</td>\n",
       "      <td>2.034000e+05</td>\n",
       "      <td>4.0</td>\n",
       "      <td>2.00</td>\n",
       "      <td>2090</td>\n",
       "      <td>6630</td>\n",
       "      <td>1.0</td>\n",
       "      <td>0</td>\n",
       "      <td>0</td>\n",
       "      <td>3</td>\n",
       "      <td>1070</td>\n",
       "      <td>1020</td>\n",
       "      <td>1974</td>\n",
       "      <td>0</td>\n",
       "      <td>5148 S Creston St</td>\n",
       "      <td>Seattle</td>\n",
       "      <td>WA 98178</td>\n",
       "      <td>USA</td>\n",
       "    </tr>\n",
       "    <tr>\n",
       "      <th>4139</th>\n",
       "      <td>2014-07-10 00:00:00</td>\n",
       "      <td>2.206000e+05</td>\n",
       "      <td>3.0</td>\n",
       "      <td>2.50</td>\n",
       "      <td>1490</td>\n",
       "      <td>8102</td>\n",
       "      <td>2.0</td>\n",
       "      <td>0</td>\n",
       "      <td>0</td>\n",
       "      <td>4</td>\n",
       "      <td>1490</td>\n",
       "      <td>0</td>\n",
       "      <td>1990</td>\n",
       "      <td>0</td>\n",
       "      <td>18717 SE 258th St</td>\n",
       "      <td>Covington</td>\n",
       "      <td>WA 98042</td>\n",
       "      <td>USA</td>\n",
       "    </tr>\n",
       "  </tbody>\n",
       "</table>\n",
       "<p>4140 rows × 18 columns</p>\n",
       "</div>"
      ],
      "text/plain": [
       "                     date         price  bedrooms  bathrooms  sqft_living  \\\n",
       "0     2014-05-09 00:00:00  3.760000e+05       3.0       2.00         1340   \n",
       "1     2014-05-09 00:00:00  8.000000e+05       4.0       3.25         3540   \n",
       "2     2014-05-09 00:00:00  2.238888e+06       5.0       6.50         7270   \n",
       "3     2014-05-09 00:00:00  3.240000e+05       3.0       2.25          998   \n",
       "4     2014-05-10 00:00:00  5.499000e+05       5.0       2.75         3060   \n",
       "...                   ...           ...       ...        ...          ...   \n",
       "4135  2014-07-09 00:00:00  3.081667e+05       3.0       1.75         1510   \n",
       "4136  2014-07-09 00:00:00  5.343333e+05       3.0       2.50         1460   \n",
       "4137  2014-07-09 00:00:00  4.169042e+05       3.0       2.50         3010   \n",
       "4138  2014-07-10 00:00:00  2.034000e+05       4.0       2.00         2090   \n",
       "4139  2014-07-10 00:00:00  2.206000e+05       3.0       2.50         1490   \n",
       "\n",
       "      sqft_lot  floors  waterfront  view  condition  sqft_above  \\\n",
       "0         1384     3.0           0     0          3        1340   \n",
       "1       159430     2.0           0     0          3        3540   \n",
       "2       130017     2.0           0     0          3        6420   \n",
       "3          904     2.0           0     0          3         798   \n",
       "4         7015     1.0           0     0          5        1600   \n",
       "...        ...     ...         ...   ...        ...         ...   \n",
       "4135      6360     1.0           0     0          4        1510   \n",
       "4136      7573     2.0           0     0          3        1460   \n",
       "4137      7014     2.0           0     0          3        3010   \n",
       "4138      6630     1.0           0     0          3        1070   \n",
       "4139      8102     2.0           0     0          4        1490   \n",
       "\n",
       "      sqft_basement  yr_built  yr_renovated                   street  \\\n",
       "0                 0      2008             0  9245-9249 Fremont Ave N   \n",
       "1                 0      2007             0         33001 NE 24th St   \n",
       "2               850      2010             0         7070 270th Pl SE   \n",
       "3               200      2007             0           820 NW 95th St   \n",
       "4              1460      1979             0        10834 31st Ave SW   \n",
       "...             ...       ...           ...                      ...   \n",
       "4135              0      1954          1979           501 N 143rd St   \n",
       "4136              0      1983          2009         14855 SE 10th Pl   \n",
       "4137              0      2009             0         759 Ilwaco Pl NE   \n",
       "4138           1020      1974             0        5148 S Creston St   \n",
       "4139              0      1990             0        18717 SE 258th St   \n",
       "\n",
       "           city  statezip country  \n",
       "0       Seattle  WA 98103     USA  \n",
       "1     Carnation  WA 98014     USA  \n",
       "2      Issaquah  WA 98029     USA  \n",
       "3       Seattle  WA 98117     USA  \n",
       "4       Seattle  WA 98146     USA  \n",
       "...         ...       ...     ...  \n",
       "4135    Seattle  WA 98133     USA  \n",
       "4136   Bellevue  WA 98007     USA  \n",
       "4137     Renton  WA 98059     USA  \n",
       "4138    Seattle  WA 98178     USA  \n",
       "4139  Covington  WA 98042     USA  \n",
       "\n",
       "[4140 rows x 18 columns]"
      ]
     },
     "execution_count": 6,
     "metadata": {},
     "output_type": "execute_result"
    }
   ],
   "source": [
    "df"
   ]
  },
  {
   "cell_type": "code",
   "execution_count": 7,
   "id": "0e40d278-bbcc-45f5-83d7-697822eeadc4",
   "metadata": {},
   "outputs": [],
   "source": [
    "#EXPLORING NUMERICAL AND CATEGORICAL VARIABLES"
   ]
  },
  {
   "cell_type": "code",
   "execution_count": 8,
   "id": "cc3fb6a3-0de7-43f3-951f-05b934462002",
   "metadata": {},
   "outputs": [
    {
     "data": {
      "text/plain": [
       "date              object\n",
       "price            float64\n",
       "bedrooms         float64\n",
       "bathrooms        float64\n",
       "sqft_living        int64\n",
       "sqft_lot           int64\n",
       "floors           float64\n",
       "waterfront         int64\n",
       "view               int64\n",
       "condition          int64\n",
       "sqft_above         int64\n",
       "sqft_basement      int64\n",
       "yr_built           int64\n",
       "yr_renovated       int64\n",
       "street            object\n",
       "city              object\n",
       "statezip          object\n",
       "country           object\n",
       "dtype: object"
      ]
     },
     "execution_count": 8,
     "metadata": {},
     "output_type": "execute_result"
    }
   ],
   "source": [
    "df.dtypes"
   ]
  },
  {
   "cell_type": "code",
   "execution_count": 9,
   "id": "d51091dc-f92e-472d-86f6-ff28e82152b6",
   "metadata": {},
   "outputs": [
    {
     "data": {
      "text/plain": [
       "Index(['price', 'bedrooms', 'bathrooms', 'sqft_living', 'sqft_lot', 'floors',\n",
       "       'waterfront', 'view', 'condition', 'sqft_above', 'sqft_basement',\n",
       "       'yr_built', 'yr_renovated'],\n",
       "      dtype='object')"
      ]
     },
     "execution_count": 9,
     "metadata": {},
     "output_type": "execute_result"
    }
   ],
   "source": [
    "# Extracting column names with numerical data types from the dataframe\n",
    "df.select_dtypes(\"number\").columns"
   ]
  },
  {
   "cell_type": "code",
   "execution_count": 10,
   "id": "1cf653c1-8fe1-487c-9aa8-af0bfee4f4ff",
   "metadata": {},
   "outputs": [
    {
     "data": {
      "text/plain": [
       "sqft_lot         2856\n",
       "price            1625\n",
       "sqft_living       549\n",
       "sqft_above        491\n",
       "sqft_basement     205\n",
       "yr_built          115\n",
       "yr_renovated       60\n",
       "bathrooms          24\n",
       "bedrooms            9\n",
       "floors              6\n",
       "view                5\n",
       "condition           5\n",
       "waterfront          2\n",
       "dtype: int64"
      ]
     },
     "execution_count": 10,
     "metadata": {},
     "output_type": "execute_result"
    }
   ],
   "source": [
    "# Counting and sorting the unique values for each numerical column in descending order\n",
    "df.select_dtypes(\"number\").nunique().sort_values(ascending=False)"
   ]
  },
  {
   "cell_type": "code",
   "execution_count": 11,
   "id": "7521fcc3-fd75-4f8e-a2ad-5994828bbb75",
   "metadata": {},
   "outputs": [
    {
     "data": {
      "text/html": [
       "<div>\n",
       "<style scoped>\n",
       "    .dataframe tbody tr th:only-of-type {\n",
       "        vertical-align: middle;\n",
       "    }\n",
       "\n",
       "    .dataframe tbody tr th {\n",
       "        vertical-align: top;\n",
       "    }\n",
       "\n",
       "    .dataframe thead th {\n",
       "        text-align: right;\n",
       "    }\n",
       "</style>\n",
       "<table border=\"1\" class=\"dataframe\">\n",
       "  <thead>\n",
       "    <tr style=\"text-align: right;\">\n",
       "      <th></th>\n",
       "      <th>bedrooms</th>\n",
       "      <th>bathrooms</th>\n",
       "      <th>floors</th>\n",
       "      <th>waterfront</th>\n",
       "      <th>view</th>\n",
       "      <th>condition</th>\n",
       "    </tr>\n",
       "  </thead>\n",
       "  <tbody>\n",
       "    <tr>\n",
       "      <th>0</th>\n",
       "      <td>3.0</td>\n",
       "      <td>2.00</td>\n",
       "      <td>3.0</td>\n",
       "      <td>0</td>\n",
       "      <td>0</td>\n",
       "      <td>3</td>\n",
       "    </tr>\n",
       "    <tr>\n",
       "      <th>1</th>\n",
       "      <td>4.0</td>\n",
       "      <td>3.25</td>\n",
       "      <td>2.0</td>\n",
       "      <td>0</td>\n",
       "      <td>0</td>\n",
       "      <td>3</td>\n",
       "    </tr>\n",
       "    <tr>\n",
       "      <th>2</th>\n",
       "      <td>5.0</td>\n",
       "      <td>6.50</td>\n",
       "      <td>2.0</td>\n",
       "      <td>0</td>\n",
       "      <td>0</td>\n",
       "      <td>3</td>\n",
       "    </tr>\n",
       "    <tr>\n",
       "      <th>3</th>\n",
       "      <td>3.0</td>\n",
       "      <td>2.25</td>\n",
       "      <td>2.0</td>\n",
       "      <td>0</td>\n",
       "      <td>0</td>\n",
       "      <td>3</td>\n",
       "    </tr>\n",
       "    <tr>\n",
       "      <th>4</th>\n",
       "      <td>5.0</td>\n",
       "      <td>2.75</td>\n",
       "      <td>1.0</td>\n",
       "      <td>0</td>\n",
       "      <td>0</td>\n",
       "      <td>5</td>\n",
       "    </tr>\n",
       "    <tr>\n",
       "      <th>...</th>\n",
       "      <td>...</td>\n",
       "      <td>...</td>\n",
       "      <td>...</td>\n",
       "      <td>...</td>\n",
       "      <td>...</td>\n",
       "      <td>...</td>\n",
       "    </tr>\n",
       "    <tr>\n",
       "      <th>4135</th>\n",
       "      <td>3.0</td>\n",
       "      <td>1.75</td>\n",
       "      <td>1.0</td>\n",
       "      <td>0</td>\n",
       "      <td>0</td>\n",
       "      <td>4</td>\n",
       "    </tr>\n",
       "    <tr>\n",
       "      <th>4136</th>\n",
       "      <td>3.0</td>\n",
       "      <td>2.50</td>\n",
       "      <td>2.0</td>\n",
       "      <td>0</td>\n",
       "      <td>0</td>\n",
       "      <td>3</td>\n",
       "    </tr>\n",
       "    <tr>\n",
       "      <th>4137</th>\n",
       "      <td>3.0</td>\n",
       "      <td>2.50</td>\n",
       "      <td>2.0</td>\n",
       "      <td>0</td>\n",
       "      <td>0</td>\n",
       "      <td>3</td>\n",
       "    </tr>\n",
       "    <tr>\n",
       "      <th>4138</th>\n",
       "      <td>4.0</td>\n",
       "      <td>2.00</td>\n",
       "      <td>1.0</td>\n",
       "      <td>0</td>\n",
       "      <td>0</td>\n",
       "      <td>3</td>\n",
       "    </tr>\n",
       "    <tr>\n",
       "      <th>4139</th>\n",
       "      <td>3.0</td>\n",
       "      <td>2.50</td>\n",
       "      <td>2.0</td>\n",
       "      <td>0</td>\n",
       "      <td>0</td>\n",
       "      <td>4</td>\n",
       "    </tr>\n",
       "  </tbody>\n",
       "</table>\n",
       "<p>4140 rows × 6 columns</p>\n",
       "</div>"
      ],
      "text/plain": [
       "      bedrooms  bathrooms  floors  waterfront  view  condition\n",
       "0          3.0       2.00     3.0           0     0          3\n",
       "1          4.0       3.25     2.0           0     0          3\n",
       "2          5.0       6.50     2.0           0     0          3\n",
       "3          3.0       2.25     2.0           0     0          3\n",
       "4          5.0       2.75     1.0           0     0          5\n",
       "...        ...        ...     ...         ...   ...        ...\n",
       "4135       3.0       1.75     1.0           0     0          4\n",
       "4136       3.0       2.50     2.0           0     0          3\n",
       "4137       3.0       2.50     2.0           0     0          3\n",
       "4138       4.0       2.00     1.0           0     0          3\n",
       "4139       3.0       2.50     2.0           0     0          4\n",
       "\n",
       "[4140 rows x 6 columns]"
      ]
     },
     "execution_count": 11,
     "metadata": {},
     "output_type": "execute_result"
    }
   ],
   "source": [
    "# Separating between discrete and continuous variables, as discrete ones could potentially be treated as categorical.\n",
    "potential_categorical_from_numerical = df.select_dtypes(\"number\").loc[:, df.select_dtypes(\"number\").nunique() < 25]\n",
    "potential_categorical_from_numerical"
   ]
  },
  {
   "cell_type": "code",
   "execution_count": 12,
   "id": "f21d3b2c-fbef-4d9a-a4b2-f6bd98810e88",
   "metadata": {},
   "outputs": [],
   "source": [
    "#note:waterfront is a boolean."
   ]
  },
  {
   "cell_type": "code",
   "execution_count": 13,
   "id": "b1653080-b7ac-4cf1-8043-3cc5294fd205",
   "metadata": {},
   "outputs": [
    {
     "name": "stdout",
     "output_type": "stream",
     "text": [
      "24\n"
     ]
    }
   ],
   "source": [
    "print(df['bathrooms'].nunique())"
   ]
  },
  {
   "cell_type": "code",
   "execution_count": 14,
   "id": "3434d595-aa5b-4ddc-9d2e-840de6b82555",
   "metadata": {},
   "outputs": [],
   "source": [
    "df_categorical = pd.concat([df.select_dtypes(\"object\"), potential_categorical_from_numerical], axis=1)\n"
   ]
  },
  {
   "cell_type": "code",
   "execution_count": 15,
   "id": "7220d4be-1497-46d1-8af3-53f321c199e5",
   "metadata": {},
   "outputs": [
    {
     "data": {
      "text/html": [
       "<div>\n",
       "<style scoped>\n",
       "    .dataframe tbody tr th:only-of-type {\n",
       "        vertical-align: middle;\n",
       "    }\n",
       "\n",
       "    .dataframe tbody tr th {\n",
       "        vertical-align: top;\n",
       "    }\n",
       "\n",
       "    .dataframe thead th {\n",
       "        text-align: right;\n",
       "    }\n",
       "</style>\n",
       "<table border=\"1\" class=\"dataframe\">\n",
       "  <thead>\n",
       "    <tr style=\"text-align: right;\">\n",
       "      <th></th>\n",
       "      <th>date</th>\n",
       "      <th>street</th>\n",
       "      <th>city</th>\n",
       "      <th>statezip</th>\n",
       "      <th>country</th>\n",
       "      <th>bedrooms</th>\n",
       "      <th>bathrooms</th>\n",
       "      <th>floors</th>\n",
       "      <th>waterfront</th>\n",
       "      <th>view</th>\n",
       "      <th>condition</th>\n",
       "    </tr>\n",
       "  </thead>\n",
       "  <tbody>\n",
       "    <tr>\n",
       "      <th>0</th>\n",
       "      <td>2014-05-09 00:00:00</td>\n",
       "      <td>9245-9249 Fremont Ave N</td>\n",
       "      <td>Seattle</td>\n",
       "      <td>WA 98103</td>\n",
       "      <td>USA</td>\n",
       "      <td>3.0</td>\n",
       "      <td>2.00</td>\n",
       "      <td>3.0</td>\n",
       "      <td>0</td>\n",
       "      <td>0</td>\n",
       "      <td>3</td>\n",
       "    </tr>\n",
       "    <tr>\n",
       "      <th>1</th>\n",
       "      <td>2014-05-09 00:00:00</td>\n",
       "      <td>33001 NE 24th St</td>\n",
       "      <td>Carnation</td>\n",
       "      <td>WA 98014</td>\n",
       "      <td>USA</td>\n",
       "      <td>4.0</td>\n",
       "      <td>3.25</td>\n",
       "      <td>2.0</td>\n",
       "      <td>0</td>\n",
       "      <td>0</td>\n",
       "      <td>3</td>\n",
       "    </tr>\n",
       "    <tr>\n",
       "      <th>2</th>\n",
       "      <td>2014-05-09 00:00:00</td>\n",
       "      <td>7070 270th Pl SE</td>\n",
       "      <td>Issaquah</td>\n",
       "      <td>WA 98029</td>\n",
       "      <td>USA</td>\n",
       "      <td>5.0</td>\n",
       "      <td>6.50</td>\n",
       "      <td>2.0</td>\n",
       "      <td>0</td>\n",
       "      <td>0</td>\n",
       "      <td>3</td>\n",
       "    </tr>\n",
       "    <tr>\n",
       "      <th>3</th>\n",
       "      <td>2014-05-09 00:00:00</td>\n",
       "      <td>820 NW 95th St</td>\n",
       "      <td>Seattle</td>\n",
       "      <td>WA 98117</td>\n",
       "      <td>USA</td>\n",
       "      <td>3.0</td>\n",
       "      <td>2.25</td>\n",
       "      <td>2.0</td>\n",
       "      <td>0</td>\n",
       "      <td>0</td>\n",
       "      <td>3</td>\n",
       "    </tr>\n",
       "    <tr>\n",
       "      <th>4</th>\n",
       "      <td>2014-05-10 00:00:00</td>\n",
       "      <td>10834 31st Ave SW</td>\n",
       "      <td>Seattle</td>\n",
       "      <td>WA 98146</td>\n",
       "      <td>USA</td>\n",
       "      <td>5.0</td>\n",
       "      <td>2.75</td>\n",
       "      <td>1.0</td>\n",
       "      <td>0</td>\n",
       "      <td>0</td>\n",
       "      <td>5</td>\n",
       "    </tr>\n",
       "    <tr>\n",
       "      <th>...</th>\n",
       "      <td>...</td>\n",
       "      <td>...</td>\n",
       "      <td>...</td>\n",
       "      <td>...</td>\n",
       "      <td>...</td>\n",
       "      <td>...</td>\n",
       "      <td>...</td>\n",
       "      <td>...</td>\n",
       "      <td>...</td>\n",
       "      <td>...</td>\n",
       "      <td>...</td>\n",
       "    </tr>\n",
       "    <tr>\n",
       "      <th>4135</th>\n",
       "      <td>2014-07-09 00:00:00</td>\n",
       "      <td>501 N 143rd St</td>\n",
       "      <td>Seattle</td>\n",
       "      <td>WA 98133</td>\n",
       "      <td>USA</td>\n",
       "      <td>3.0</td>\n",
       "      <td>1.75</td>\n",
       "      <td>1.0</td>\n",
       "      <td>0</td>\n",
       "      <td>0</td>\n",
       "      <td>4</td>\n",
       "    </tr>\n",
       "    <tr>\n",
       "      <th>4136</th>\n",
       "      <td>2014-07-09 00:00:00</td>\n",
       "      <td>14855 SE 10th Pl</td>\n",
       "      <td>Bellevue</td>\n",
       "      <td>WA 98007</td>\n",
       "      <td>USA</td>\n",
       "      <td>3.0</td>\n",
       "      <td>2.50</td>\n",
       "      <td>2.0</td>\n",
       "      <td>0</td>\n",
       "      <td>0</td>\n",
       "      <td>3</td>\n",
       "    </tr>\n",
       "    <tr>\n",
       "      <th>4137</th>\n",
       "      <td>2014-07-09 00:00:00</td>\n",
       "      <td>759 Ilwaco Pl NE</td>\n",
       "      <td>Renton</td>\n",
       "      <td>WA 98059</td>\n",
       "      <td>USA</td>\n",
       "      <td>3.0</td>\n",
       "      <td>2.50</td>\n",
       "      <td>2.0</td>\n",
       "      <td>0</td>\n",
       "      <td>0</td>\n",
       "      <td>3</td>\n",
       "    </tr>\n",
       "    <tr>\n",
       "      <th>4138</th>\n",
       "      <td>2014-07-10 00:00:00</td>\n",
       "      <td>5148 S Creston St</td>\n",
       "      <td>Seattle</td>\n",
       "      <td>WA 98178</td>\n",
       "      <td>USA</td>\n",
       "      <td>4.0</td>\n",
       "      <td>2.00</td>\n",
       "      <td>1.0</td>\n",
       "      <td>0</td>\n",
       "      <td>0</td>\n",
       "      <td>3</td>\n",
       "    </tr>\n",
       "    <tr>\n",
       "      <th>4139</th>\n",
       "      <td>2014-07-10 00:00:00</td>\n",
       "      <td>18717 SE 258th St</td>\n",
       "      <td>Covington</td>\n",
       "      <td>WA 98042</td>\n",
       "      <td>USA</td>\n",
       "      <td>3.0</td>\n",
       "      <td>2.50</td>\n",
       "      <td>2.0</td>\n",
       "      <td>0</td>\n",
       "      <td>0</td>\n",
       "      <td>4</td>\n",
       "    </tr>\n",
       "  </tbody>\n",
       "</table>\n",
       "<p>4140 rows × 11 columns</p>\n",
       "</div>"
      ],
      "text/plain": [
       "                     date                   street       city  statezip  \\\n",
       "0     2014-05-09 00:00:00  9245-9249 Fremont Ave N    Seattle  WA 98103   \n",
       "1     2014-05-09 00:00:00         33001 NE 24th St  Carnation  WA 98014   \n",
       "2     2014-05-09 00:00:00         7070 270th Pl SE   Issaquah  WA 98029   \n",
       "3     2014-05-09 00:00:00           820 NW 95th St    Seattle  WA 98117   \n",
       "4     2014-05-10 00:00:00        10834 31st Ave SW    Seattle  WA 98146   \n",
       "...                   ...                      ...        ...       ...   \n",
       "4135  2014-07-09 00:00:00           501 N 143rd St    Seattle  WA 98133   \n",
       "4136  2014-07-09 00:00:00         14855 SE 10th Pl   Bellevue  WA 98007   \n",
       "4137  2014-07-09 00:00:00         759 Ilwaco Pl NE     Renton  WA 98059   \n",
       "4138  2014-07-10 00:00:00        5148 S Creston St    Seattle  WA 98178   \n",
       "4139  2014-07-10 00:00:00        18717 SE 258th St  Covington  WA 98042   \n",
       "\n",
       "     country  bedrooms  bathrooms  floors  waterfront  view  condition  \n",
       "0        USA       3.0       2.00     3.0           0     0          3  \n",
       "1        USA       4.0       3.25     2.0           0     0          3  \n",
       "2        USA       5.0       6.50     2.0           0     0          3  \n",
       "3        USA       3.0       2.25     2.0           0     0          3  \n",
       "4        USA       5.0       2.75     1.0           0     0          5  \n",
       "...      ...       ...        ...     ...         ...   ...        ...  \n",
       "4135     USA       3.0       1.75     1.0           0     0          4  \n",
       "4136     USA       3.0       2.50     2.0           0     0          3  \n",
       "4137     USA       3.0       2.50     2.0           0     0          3  \n",
       "4138     USA       4.0       2.00     1.0           0     0          3  \n",
       "4139     USA       3.0       2.50     2.0           0     0          4  \n",
       "\n",
       "[4140 rows x 11 columns]"
      ]
     },
     "execution_count": 15,
     "metadata": {},
     "output_type": "execute_result"
    }
   ],
   "source": [
    "df_categorical"
   ]
  },
  {
   "cell_type": "code",
   "execution_count": 16,
   "id": "46af12a8-0dbd-43b1-842c-594dd590536f",
   "metadata": {},
   "outputs": [],
   "source": [
    "# Adjusting the numerical dataframe by removing the moved columns\n",
    "df_numerical = df.select_dtypes(\"number\").drop(columns=potential_categorical_from_numerical.columns)"
   ]
  },
  {
   "cell_type": "code",
   "execution_count": 17,
   "id": "c19ceb77-1b98-4cbc-86e8-7bc5781f9607",
   "metadata": {},
   "outputs": [
    {
     "data": {
      "text/html": [
       "<div>\n",
       "<style scoped>\n",
       "    .dataframe tbody tr th:only-of-type {\n",
       "        vertical-align: middle;\n",
       "    }\n",
       "\n",
       "    .dataframe tbody tr th {\n",
       "        vertical-align: top;\n",
       "    }\n",
       "\n",
       "    .dataframe thead th {\n",
       "        text-align: right;\n",
       "    }\n",
       "</style>\n",
       "<table border=\"1\" class=\"dataframe\">\n",
       "  <thead>\n",
       "    <tr style=\"text-align: right;\">\n",
       "      <th></th>\n",
       "      <th>price</th>\n",
       "      <th>sqft_living</th>\n",
       "      <th>sqft_lot</th>\n",
       "      <th>sqft_above</th>\n",
       "      <th>sqft_basement</th>\n",
       "      <th>yr_built</th>\n",
       "      <th>yr_renovated</th>\n",
       "    </tr>\n",
       "  </thead>\n",
       "  <tbody>\n",
       "    <tr>\n",
       "      <th>0</th>\n",
       "      <td>3.760000e+05</td>\n",
       "      <td>1340</td>\n",
       "      <td>1384</td>\n",
       "      <td>1340</td>\n",
       "      <td>0</td>\n",
       "      <td>2008</td>\n",
       "      <td>0</td>\n",
       "    </tr>\n",
       "    <tr>\n",
       "      <th>1</th>\n",
       "      <td>8.000000e+05</td>\n",
       "      <td>3540</td>\n",
       "      <td>159430</td>\n",
       "      <td>3540</td>\n",
       "      <td>0</td>\n",
       "      <td>2007</td>\n",
       "      <td>0</td>\n",
       "    </tr>\n",
       "    <tr>\n",
       "      <th>2</th>\n",
       "      <td>2.238888e+06</td>\n",
       "      <td>7270</td>\n",
       "      <td>130017</td>\n",
       "      <td>6420</td>\n",
       "      <td>850</td>\n",
       "      <td>2010</td>\n",
       "      <td>0</td>\n",
       "    </tr>\n",
       "    <tr>\n",
       "      <th>3</th>\n",
       "      <td>3.240000e+05</td>\n",
       "      <td>998</td>\n",
       "      <td>904</td>\n",
       "      <td>798</td>\n",
       "      <td>200</td>\n",
       "      <td>2007</td>\n",
       "      <td>0</td>\n",
       "    </tr>\n",
       "    <tr>\n",
       "      <th>4</th>\n",
       "      <td>5.499000e+05</td>\n",
       "      <td>3060</td>\n",
       "      <td>7015</td>\n",
       "      <td>1600</td>\n",
       "      <td>1460</td>\n",
       "      <td>1979</td>\n",
       "      <td>0</td>\n",
       "    </tr>\n",
       "    <tr>\n",
       "      <th>...</th>\n",
       "      <td>...</td>\n",
       "      <td>...</td>\n",
       "      <td>...</td>\n",
       "      <td>...</td>\n",
       "      <td>...</td>\n",
       "      <td>...</td>\n",
       "      <td>...</td>\n",
       "    </tr>\n",
       "    <tr>\n",
       "      <th>4135</th>\n",
       "      <td>3.081667e+05</td>\n",
       "      <td>1510</td>\n",
       "      <td>6360</td>\n",
       "      <td>1510</td>\n",
       "      <td>0</td>\n",
       "      <td>1954</td>\n",
       "      <td>1979</td>\n",
       "    </tr>\n",
       "    <tr>\n",
       "      <th>4136</th>\n",
       "      <td>5.343333e+05</td>\n",
       "      <td>1460</td>\n",
       "      <td>7573</td>\n",
       "      <td>1460</td>\n",
       "      <td>0</td>\n",
       "      <td>1983</td>\n",
       "      <td>2009</td>\n",
       "    </tr>\n",
       "    <tr>\n",
       "      <th>4137</th>\n",
       "      <td>4.169042e+05</td>\n",
       "      <td>3010</td>\n",
       "      <td>7014</td>\n",
       "      <td>3010</td>\n",
       "      <td>0</td>\n",
       "      <td>2009</td>\n",
       "      <td>0</td>\n",
       "    </tr>\n",
       "    <tr>\n",
       "      <th>4138</th>\n",
       "      <td>2.034000e+05</td>\n",
       "      <td>2090</td>\n",
       "      <td>6630</td>\n",
       "      <td>1070</td>\n",
       "      <td>1020</td>\n",
       "      <td>1974</td>\n",
       "      <td>0</td>\n",
       "    </tr>\n",
       "    <tr>\n",
       "      <th>4139</th>\n",
       "      <td>2.206000e+05</td>\n",
       "      <td>1490</td>\n",
       "      <td>8102</td>\n",
       "      <td>1490</td>\n",
       "      <td>0</td>\n",
       "      <td>1990</td>\n",
       "      <td>0</td>\n",
       "    </tr>\n",
       "  </tbody>\n",
       "</table>\n",
       "<p>4140 rows × 7 columns</p>\n",
       "</div>"
      ],
      "text/plain": [
       "             price  sqft_living  sqft_lot  sqft_above  sqft_basement  \\\n",
       "0     3.760000e+05         1340      1384        1340              0   \n",
       "1     8.000000e+05         3540    159430        3540              0   \n",
       "2     2.238888e+06         7270    130017        6420            850   \n",
       "3     3.240000e+05          998       904         798            200   \n",
       "4     5.499000e+05         3060      7015        1600           1460   \n",
       "...            ...          ...       ...         ...            ...   \n",
       "4135  3.081667e+05         1510      6360        1510              0   \n",
       "4136  5.343333e+05         1460      7573        1460              0   \n",
       "4137  4.169042e+05         3010      7014        3010              0   \n",
       "4138  2.034000e+05         2090      6630        1070           1020   \n",
       "4139  2.206000e+05         1490      8102        1490              0   \n",
       "\n",
       "      yr_built  yr_renovated  \n",
       "0         2008             0  \n",
       "1         2007             0  \n",
       "2         2010             0  \n",
       "3         2007             0  \n",
       "4         1979             0  \n",
       "...        ...           ...  \n",
       "4135      1954          1979  \n",
       "4136      1983          2009  \n",
       "4137      2009             0  \n",
       "4138      1974             0  \n",
       "4139      1990             0  \n",
       "\n",
       "[4140 rows x 7 columns]"
      ]
     },
     "execution_count": 17,
     "metadata": {},
     "output_type": "execute_result"
    }
   ],
   "source": [
    "df_numerical"
   ]
  },
  {
   "cell_type": "code",
   "execution_count": 18,
   "id": "370e3a68-d4ab-4cff-ad3e-b7ab46e24307",
   "metadata": {},
   "outputs": [
    {
     "data": {
      "text/plain": [
       "Index(['date', 'street', 'city', 'statezip', 'country'], dtype='object')"
      ]
     },
     "execution_count": 18,
     "metadata": {},
     "output_type": "execute_result"
    }
   ],
   "source": [
    "# Retrieving column names with object (typically string) data types from the dataframe\n",
    "df.select_dtypes(\"object\").columns"
   ]
  },
  {
   "cell_type": "code",
   "execution_count": 19,
   "id": "b8f73355-33ca-4a75-8e82-a39102488350",
   "metadata": {},
   "outputs": [
    {
     "data": {
      "text/plain": [
       "street      4079\n",
       "statezip      77\n",
       "date          68\n",
       "city          43\n",
       "country        1\n",
       "dtype: int64"
      ]
     },
     "execution_count": 19,
     "metadata": {},
     "output_type": "execute_result"
    }
   ],
   "source": [
    "# Counting and sorting the unique values for each object (string) column in descending order\n",
    "df.select_dtypes(\"object\").nunique().sort_values(ascending=False)\n",
    "\n",
    "# All columns seem categorical, as there isn't a wide variability of values."
   ]
  },
  {
   "cell_type": "code",
   "execution_count": 20,
   "id": "c847327c-ef53-4098-bdef-07a9ec2bbfbb",
   "metadata": {},
   "outputs": [
    {
     "data": {
      "text/plain": [
       "True"
      ]
     },
     "execution_count": 20,
     "metadata": {},
     "output_type": "execute_result"
    }
   ],
   "source": [
    "# Verifying that the total number of columns in the dataframe is the sum of object (string) and numerical columns\n",
    "len(df.columns) == len(df.select_dtypes(\"object\").columns) + len(df.select_dtypes(\"number\").columns)"
   ]
  },
  {
   "cell_type": "code",
   "execution_count": 21,
   "id": "46d62835-eb8e-45be-a4b0-402b62726705",
   "metadata": {},
   "outputs": [],
   "source": [
    "#DATA CLEANING"
   ]
  },
  {
   "cell_type": "code",
   "execution_count": 22,
   "id": "00f03ac9-bc95-4589-8513-d9a7732f7b5a",
   "metadata": {},
   "outputs": [
    {
     "data": {
      "text/plain": [
       "date             0\n",
       "price            0\n",
       "bedrooms         0\n",
       "bathrooms        0\n",
       "sqft_living      0\n",
       "sqft_lot         0\n",
       "floors           0\n",
       "waterfront       0\n",
       "view             0\n",
       "condition        0\n",
       "sqft_above       0\n",
       "sqft_basement    0\n",
       "yr_built         0\n",
       "yr_renovated     0\n",
       "street           0\n",
       "city             0\n",
       "statezip         0\n",
       "country          0\n",
       "dtype: int64"
      ]
     },
     "execution_count": 22,
     "metadata": {},
     "output_type": "execute_result"
    }
   ],
   "source": [
    "# Checking for missing data\n",
    "df.isnull().sum().sort_values(ascending=False)"
   ]
  },
  {
   "cell_type": "code",
   "execution_count": 23,
   "id": "bd86fc3f-ac36-483e-a5df-228c078a05af",
   "metadata": {},
   "outputs": [
    {
     "data": {
      "text/plain": [
       "Index([], dtype='object')"
      ]
     },
     "execution_count": 23,
     "metadata": {},
     "output_type": "execute_result"
    }
   ],
   "source": [
    "df.columns[df.isnull().mean() > 0.8] #there are no missing values."
   ]
  },
  {
   "cell_type": "code",
   "execution_count": 24,
   "id": "2478cf4f-79b1-443e-83e9-d31e97e9a4b4",
   "metadata": {},
   "outputs": [],
   "source": [
    "# Removing the \"date\" column from the dataframe because it doesn't give any real insight.\n",
    "df.drop(\"date\", inplace=True, axis=1)"
   ]
  },
  {
   "cell_type": "code",
   "execution_count": 25,
   "id": "125701e0-66d0-4dc5-ad2d-4834d1666ea8",
   "metadata": {},
   "outputs": [
    {
     "name": "stdout",
     "output_type": "stream",
     "text": [
      "Found 2 potential duplicates.\n"
     ]
    }
   ],
   "source": [
    "#checking for duplicates\n",
    "duplicates = df.duplicated(subset=[\"statezip\", \"price\", \"bedrooms\", 'yr_built', 'street', 'sqft_above'], keep=False)\n",
    "print(f\"Found {duplicates.sum()} potential duplicates.\")"
   ]
  },
  {
   "cell_type": "code",
   "execution_count": 26,
   "id": "95c05078-666e-4b53-94c1-7ec3b2e26c8f",
   "metadata": {},
   "outputs": [
    {
     "data": {
      "text/plain": [
       "np.int64(0)"
      ]
     },
     "execution_count": 26,
     "metadata": {},
     "output_type": "execute_result"
    }
   ],
   "source": [
    "df.duplicated().sum()"
   ]
  },
  {
   "cell_type": "code",
   "execution_count": 27,
   "id": "d171c1bc-4d3d-4c53-bc5a-acbbcc93c70d",
   "metadata": {},
   "outputs": [],
   "source": [
    "#UNIVARIATE ANALYSIS"
   ]
  },
  {
   "cell_type": "code",
   "execution_count": 28,
   "id": "e152319a-f224-4f0d-811d-98fdf60a5486",
   "metadata": {},
   "outputs": [],
   "source": [
    "#Categorical Variables\n",
    "#Frequency table for bedrooms\n",
    "frequency_table_bedroom = df['bedrooms'].value_counts()"
   ]
  },
  {
   "cell_type": "code",
   "execution_count": 29,
   "id": "cc5d1a00-3a59-483c-bf7d-e17fd2f6d3a8",
   "metadata": {},
   "outputs": [
    {
     "data": {
      "text/plain": [
       "bedrooms\n",
       "3.0    1833\n",
       "4.0    1382\n",
       "2.0     500\n",
       "5.0     317\n",
       "6.0      56\n",
       "1.0      37\n",
       "7.0      11\n",
       "8.0       2\n",
       "0.0       2\n",
       "Name: count, dtype: int64"
      ]
     },
     "execution_count": 29,
     "metadata": {},
     "output_type": "execute_result"
    }
   ],
   "source": [
    "frequency_table_bedroom"
   ]
  },
  {
   "cell_type": "code",
   "execution_count": 30,
   "id": "a25b8255-84f0-4d05-bcc4-1d1e8cdc70e5",
   "metadata": {},
   "outputs": [
    {
     "data": {
      "text/html": [
       "<div>\n",
       "<style scoped>\n",
       "    .dataframe tbody tr th:only-of-type {\n",
       "        vertical-align: middle;\n",
       "    }\n",
       "\n",
       "    .dataframe tbody tr th {\n",
       "        vertical-align: top;\n",
       "    }\n",
       "\n",
       "    .dataframe thead th {\n",
       "        text-align: right;\n",
       "    }\n",
       "</style>\n",
       "<table border=\"1\" class=\"dataframe\">\n",
       "  <thead>\n",
       "    <tr style=\"text-align: right;\">\n",
       "      <th>col_0</th>\n",
       "      <th>count</th>\n",
       "    </tr>\n",
       "    <tr>\n",
       "      <th>bedrooms</th>\n",
       "      <th></th>\n",
       "    </tr>\n",
       "  </thead>\n",
       "  <tbody>\n",
       "    <tr>\n",
       "      <th>0.0</th>\n",
       "      <td>2</td>\n",
       "    </tr>\n",
       "    <tr>\n",
       "      <th>1.0</th>\n",
       "      <td>37</td>\n",
       "    </tr>\n",
       "    <tr>\n",
       "      <th>2.0</th>\n",
       "      <td>500</td>\n",
       "    </tr>\n",
       "    <tr>\n",
       "      <th>3.0</th>\n",
       "      <td>1833</td>\n",
       "    </tr>\n",
       "    <tr>\n",
       "      <th>4.0</th>\n",
       "      <td>1382</td>\n",
       "    </tr>\n",
       "    <tr>\n",
       "      <th>5.0</th>\n",
       "      <td>317</td>\n",
       "    </tr>\n",
       "    <tr>\n",
       "      <th>6.0</th>\n",
       "      <td>56</td>\n",
       "    </tr>\n",
       "    <tr>\n",
       "      <th>7.0</th>\n",
       "      <td>11</td>\n",
       "    </tr>\n",
       "    <tr>\n",
       "      <th>8.0</th>\n",
       "      <td>2</td>\n",
       "    </tr>\n",
       "  </tbody>\n",
       "</table>\n",
       "</div>"
      ],
      "text/plain": [
       "col_0     count\n",
       "bedrooms       \n",
       "0.0           2\n",
       "1.0          37\n",
       "2.0         500\n",
       "3.0        1833\n",
       "4.0        1382\n",
       "5.0         317\n",
       "6.0          56\n",
       "7.0          11\n",
       "8.0           2"
      ]
     },
     "execution_count": 30,
     "metadata": {},
     "output_type": "execute_result"
    }
   ],
   "source": [
    "bedrooms_table = pd.crosstab(index = df_categorical['bedrooms'],  # Make a crosstab\n",
    "                              columns=\"count\")      # Name the count column\n",
    "bedrooms_table"
   ]
  },
  {
   "cell_type": "code",
   "execution_count": 31,
   "id": "812ffe53-46c6-4abd-a88f-c238e6621b90",
   "metadata": {},
   "outputs": [],
   "source": [
    "#Approx. 44 percent of the houses have 3 bedrooms, whereas 12 percent of the houses have 2 bedrooms. "
   ]
  },
  {
   "cell_type": "code",
   "execution_count": 32,
   "id": "58bc2593-162f-47a6-b765-ef92947c3296",
   "metadata": {},
   "outputs": [],
   "source": [
    "frequency_table_waterfront = df['waterfront'].value_counts()"
   ]
  },
  {
   "cell_type": "code",
   "execution_count": 33,
   "id": "8c605224-a877-4ba9-a3f4-69274c5c8ade",
   "metadata": {},
   "outputs": [
    {
     "ename": "NameError",
     "evalue": "name 'waterfront_table' is not defined",
     "output_type": "error",
     "traceback": [
      "\u001b[1;31m---------------------------------------------------------------------------\u001b[0m",
      "\u001b[1;31mNameError\u001b[0m                                 Traceback (most recent call last)",
      "Cell \u001b[1;32mIn[33], line 1\u001b[0m\n\u001b[1;32m----> 1\u001b[0m proportion_waterfront\u001b[38;5;241m=\u001b[39m(waterfront_table\u001b[38;5;241m/\u001b[39mwaterfront_table\u001b[38;5;241m.\u001b[39msum())\u001b[38;5;241m.\u001b[39mround(\u001b[38;5;241m2\u001b[39m)\n\u001b[0;32m      2\u001b[0m proportion_waterfront\n",
      "\u001b[1;31mNameError\u001b[0m: name 'waterfront_table' is not defined"
     ]
    }
   ],
   "source": [
    "proportion_waterfront=(waterfront_table/waterfront_table.sum()).round(2)\n",
    "proportion_waterfront"
   ]
  },
  {
   "cell_type": "code",
   "execution_count": null,
   "id": "5887d83f-b71e-4850-8490-c862cc91cb82",
   "metadata": {},
   "outputs": [],
   "source": [
    "#99 percent of the houses have no waterfront. Only one percent of the houses have a waterfront."
   ]
  },
  {
   "cell_type": "code",
   "execution_count": null,
   "id": "c1f1f501-25d0-46a2-982b-0f6ffb8366f2",
   "metadata": {},
   "outputs": [],
   "source": [
    "waterfront_table = pd.crosstab(index = df_categorical['waterfront'],  # Make a crosstab\n",
    "                              columns=\"count\")      # Name the count column\n",
    "waterfront_table"
   ]
  },
  {
   "cell_type": "code",
   "execution_count": null,
   "id": "4a727757-ba20-4d98-b099-3815a1069e3f",
   "metadata": {},
   "outputs": [],
   "source": [
    "frequency_table_condition = df['condition'].value_counts()"
   ]
  },
  {
   "cell_type": "code",
   "execution_count": null,
   "id": "f42f77fe-dad0-47c9-8631-19725455d361",
   "metadata": {},
   "outputs": [],
   "source": [
    "frequency_table_condition"
   ]
  },
  {
   "cell_type": "code",
   "execution_count": null,
   "id": "c9f5d6aa-3aba-4403-98c6-6ff160532058",
   "metadata": {},
   "outputs": [],
   "source": [
    "condition_table = pd.crosstab(index = df_categorical['condition'],  # Make a crosstab\n",
    "                              columns=\"count\")      # Name the count column\n",
    "condition_table"
   ]
  },
  {
   "cell_type": "code",
   "execution_count": null,
   "id": "94254d91-e543-49f8-9548-66417ccb1250",
   "metadata": {},
   "outputs": [],
   "source": [
    "proportion_condition=(condition_table/condition_table.sum()).round(2)\n",
    "proportion_condition"
   ]
  },
  {
   "cell_type": "code",
   "execution_count": null,
   "id": "0a3711f3-9278-4cc9-92b8-0e04320b752f",
   "metadata": {},
   "outputs": [],
   "source": [
    "#63 percent of the houses of a condition of 3 whereas 10 percent of the houses have a condition of 5."
   ]
  },
  {
   "cell_type": "code",
   "execution_count": null,
   "id": "11efbc8b-7381-495c-933f-720d40c406e4",
   "metadata": {},
   "outputs": [],
   "source": [
    "#Insights: The most common house condition is 3 with 2596 houses, whereas the 3 bedroom houses are the most common.1833 houses have 3 bedrooms.\n",
    "#Waterfront houses are not common. There are only 31 waterfront houses."
   ]
  },
  {
   "cell_type": "code",
   "execution_count": null,
   "id": "f808b7c4-82c8-4b67-aedc-2acd1d0e559a",
   "metadata": {},
   "outputs": [],
   "source": [
    "#Calculating proportions: "
   ]
  },
  {
   "cell_type": "code",
   "execution_count": null,
   "id": "d4d0ec06-4e54-4989-8a1f-6e9858b5473a",
   "metadata": {},
   "outputs": [],
   "source": [
    "sns.barplot(x=frequency_table_bedroom.index, y=frequency_table_bedroom.values, palette=\"Set3\")\n",
    "plt.show();"
   ]
  },
  {
   "cell_type": "code",
   "execution_count": null,
   "id": "e63a7d92-becf-4d5b-afdf-a39b480b7173",
   "metadata": {},
   "outputs": [],
   "source": [
    "frequency_table_bedroom.plot.pie(autopct='%1.1f%%', startangle=00, colors=sns.color_palette(\"Set3\"))\n",
    "plt.title('Bedroom Distribution')\n",
    "plt.figure(figsize=(100,100))\n",
    "plt.show()"
   ]
  },
  {
   "cell_type": "code",
   "execution_count": null,
   "id": "22328980-99db-4991-bd69-836a849fc3f6",
   "metadata": {},
   "outputs": [],
   "source": [
    "#Insights: The average mean price of the houses in the dataset are approx "
   ]
  },
  {
   "cell_type": "code",
   "execution_count": null,
   "id": "4eb91d81-d59a-47c5-8785-f067267621be",
   "metadata": {},
   "outputs": [],
   "source": [
    "df[\"price_USD\"] = df[\"price\"].map(\"${:,.2f}\".format)"
   ]
  },
  {
   "cell_type": "code",
   "execution_count": null,
   "id": "ab907aaf-dc8f-4e48-b8e2-07354bd9fe75",
   "metadata": {},
   "outputs": [],
   "source": [
    "df.drop(\"price_USD\", inplace=True, axis=1)"
   ]
  },
  {
   "cell_type": "code",
   "execution_count": null,
   "id": "1bf0e66d-c0e3-44a1-b0b8-13cd8d86a711",
   "metadata": {},
   "outputs": [],
   "source": [
    "df[\"price\"] = df[\"price\"].round(2)"
   ]
  },
  {
   "cell_type": "code",
   "execution_count": null,
   "id": "a2185eab-6c17-428a-b457-01d07ffac13a",
   "metadata": {},
   "outputs": [],
   "source": [
    "df"
   ]
  },
  {
   "cell_type": "code",
   "execution_count": null,
   "id": "4830be2d-c2a0-45e7-866f-1b6f957e7398",
   "metadata": {},
   "outputs": [],
   "source": [
    "unique_years = df['yr_built'].unique()\n",
    "print(unique_years)"
   ]
  },
  {
   "cell_type": "code",
   "execution_count": null,
   "id": "b876cb44-c4f7-458e-8f3b-f17f62f08b05",
   "metadata": {},
   "outputs": [],
   "source": [
    "# The average (mean) sale price of the houses in the dataset is approximately $553,062.90.\n",
    "#The median sale price (middle value when sorted) stands at $460,000.00. The median is lower than the mean, suggesting a skew in the distribution\n",
    "#of sale prices towards higher values. \n",
    "#Std deviation is approx $583,686.50 which is higher than the mean, suggesting high variability of prices from the average price.\n",
    "#The average price is not a reliable indicator for individual house prices.\n",
    "#Minimum sales price is 0 whereas max sales price is "
   ]
  },
  {
   "cell_type": "code",
   "execution_count": null,
   "id": "6cf03c59-b399-4085-b4cc-4c012d634054",
   "metadata": {},
   "outputs": [],
   "source": [
    "df = df[df['price'] != 0]"
   ]
  },
  {
   "cell_type": "code",
   "execution_count": null,
   "id": "d0028a88-088b-4dba-a101-adb1ed6595fb",
   "metadata": {},
   "outputs": [],
   "source": [
    "df['price'] = df['price'].round(4)"
   ]
  },
  {
   "cell_type": "code",
   "execution_count": null,
   "id": "3eb2389e-561f-4b92-810a-30c3812559e0",
   "metadata": {},
   "outputs": [],
   "source": [
    "# Summary statistics for the dataset\n",
    "df.describe()"
   ]
  },
  {
   "cell_type": "code",
   "execution_count": null,
   "id": "2a68ab81-684a-4c25-8066-d29d088a74b7",
   "metadata": {},
   "outputs": [],
   "source": []
  },
  {
   "cell_type": "code",
   "execution_count": null,
   "id": "8c4a2692-5d54-4f31-84af-6e8da63a1bb3",
   "metadata": {},
   "outputs": [],
   "source": [
    "df"
   ]
  },
  {
   "cell_type": "code",
   "execution_count": null,
   "id": "88e76114-0dba-4e80-9963-dd11d339aaf5",
   "metadata": {},
   "outputs": [],
   "source": [
    "# The average (mean) sale price of the houses in the dataset is approximately $559,687.2.\n",
    "#The median sale price (middle value when sorted) stands at $464,600.00. The median is lower than the mean, suggesting a skew in the distribution\n",
    "#of sale prices towards higher values. \n",
    "#Std deviation is approx $584,006.00 which is higher than the mean, suggesting high variability of prices from the average price.\n",
    "#The average price is not a reliable indicator for individual house prices.\n",
    "#Minimum sales price is  whereas max sales price is $7,800.00 whereas the max sales price is $26.59 million."
   ]
  },
  {
   "cell_type": "code",
   "execution_count": null,
   "id": "3b675827-57be-4d5a-bc21-2f856aba46f0",
   "metadata": {},
   "outputs": [],
   "source": [
    "sns.histplot(df['price'], kde=True, bins=30, color=\"salmon\")\n",
    "plt.show()"
   ]
  },
  {
   "cell_type": "code",
   "execution_count": null,
   "id": "60835c45-2a49-45c9-948c-f811216359ea",
   "metadata": {},
   "outputs": [],
   "source": [
    "sns.boxplot(data = df['price'], color=\"lightblue\")\n",
    "plt.show()"
   ]
  },
  {
   "cell_type": "code",
   "execution_count": null,
   "id": "83a4d8c4-df5d-48f1-8e20-97eb5f4ecaa0",
   "metadata": {},
   "outputs": [],
   "source": [
    "def tukeys_test_outliers(df):\n",
    "    Q1 = df['price'].quantile(0.25)\n",
    "    Q3 = df['price'].quantile(0.75)\n",
    "    IQR = Q3 - Q1\n",
    "    \n",
    "    # Define bounds for the outliers\n",
    "    lower_bound = Q1 - 1.5 * IQR\n",
    "    upper_bound = Q3 + 1.5 * IQR\n",
    "    \n",
    "    # Identify the outliers\n",
    "    outliers = df['price'][(df['price'] < lower_bound) | (df['price'] > upper_bound)]\n",
    "    \n",
    "    return outliers, lower_bound, upper_bound"
   ]
  },
  {
   "cell_type": "code",
   "execution_count": null,
   "id": "75b4bdee-7ab5-4a08-82d7-6106715fd358",
   "metadata": {},
   "outputs": [],
   "source": [
    "IQR = Q3 - Q1 \n",
    "lower_bound = Q1 - 1.5 * IQR\n",
    "upper_bound = Q3 + 1.5 * IQR\n",
    "\n",
    "# Identify the outliers\n",
    "outliers = df['price'][(df['price'] < lower_bound) | (df['price'] > upper_bound)]"
   ]
  },
  {
   "cell_type": "code",
   "execution_count": null,
   "id": "cf27d756-1363-4d45-8ca2-b7e4e7e69636",
   "metadata": {},
   "outputs": [],
   "source": [
    "len(outliers)"
   ]
  },
  {
   "cell_type": "code",
   "execution_count": null,
   "id": "32a607e7-f311-41f7-9dc8-a6ab1e87c266",
   "metadata": {},
   "outputs": [],
   "source": [
    "Q1 = df['price'].quantile(0.25)\n",
    "Q3 = df['price'].quantile(0.75)\n",
    "Q1, Q3"
   ]
  },
  {
   "cell_type": "code",
   "execution_count": null,
   "id": "8f821db5-06b5-4c00-b01c-fbbb0fb37e8a",
   "metadata": {},
   "outputs": [],
   "source": [
    "tukeys_test_outliers(df)"
   ]
  },
  {
   "cell_type": "code",
   "execution_count": null,
   "id": "d8f4d2f8-7f3a-4606-b404-3fc57bfa71c5",
   "metadata": {},
   "outputs": [],
   "source": [
    "negatives = df[df['price'] < 0]\n",
    "print(f\"Negative prices:\\n{negatives}\")"
   ]
  },
  {
   "cell_type": "code",
   "execution_count": null,
   "id": "887d71a9-e6c4-4143-8fab-3bf4c7a5b995",
   "metadata": {},
   "outputs": [],
   "source": [
    "#filtering out the outliers\n",
    "df_filtered = df[(df['price'] >= lower_bound) & (df['price'] <= upper_bound)]"
   ]
  },
  {
   "cell_type": "code",
   "execution_count": null,
   "id": "c86b19b4-ca3b-487b-9d76-26b0f1268447",
   "metadata": {},
   "outputs": [],
   "source": [
    "sns.boxplot(data = df_filtered['price'], color=\"lightblue\")\n",
    "plt.gca().yaxis.set_major_formatter('${x:,.0f}')\n",
    "plt.show()"
   ]
  },
  {
   "cell_type": "code",
   "execution_count": null,
   "id": "3869801b-0f7f-4a84-b1ec-cc014eb6ae3c",
   "metadata": {},
   "outputs": [],
   "source": [
    "sns.histplot(df_filtered['price'], kde=True, bins=30, color=\"salmon\")\n",
    "plt.gca().xaxis.set_major_formatter('${x:,.0f}')\n",
    "plt.xticks(rotation=45)\n",
    "plt.show()"
   ]
  },
  {
   "cell_type": "code",
   "execution_count": null,
   "id": "e7473995-1d74-4222-8347-7bb5a20bdc99",
   "metadata": {},
   "outputs": [],
   "source": [
    "# Discretizing 'SalePrice' into 4 categories\n",
    "bins = [0, 300000, 600000, 1200000,df['price'].max()]\n",
    "labels = ['Low', 'Medium', 'High', 'Very High']\n",
    "df['SalePrice_category'] = pd.cut(df['price'], bins=bins, labels=labels, include_lowest=True)"
   ]
  },
  {
   "cell_type": "code",
   "execution_count": null,
   "id": "5c4a77a8-83de-4d1f-8467-b5297720615c",
   "metadata": {},
   "outputs": [],
   "source": [
    "df.SalePrice_category.value_counts()"
   ]
  },
  {
   "cell_type": "code",
   "execution_count": null,
   "id": "9a096f82-4aa0-4b88-8b8b-e23cd8804fd9",
   "metadata": {},
   "outputs": [],
   "source": [
    "#using violin plot to visualize the distribution of price across different conditions\n",
    "sns.violinplot(data=df_filtered, x='condition', y='price', palette=\"coolwarm\")\n",
    "plt.gca().yaxis.set_major_formatter('${x:,.0f}')\n",
    "plt.show()"
   ]
  },
  {
   "cell_type": "code",
   "execution_count": null,
   "id": "675e018a-668e-41a1-9ea3-0535f5246806",
   "metadata": {},
   "outputs": [],
   "source": [
    "#The houses with better condition (3,4,5) have prices in the upper range. Category 5 has the highest median house price.\n",
    "#For the house condition 1 majority of the houses are priced in the mid-lower range. \n",
    "#Condition 2 category has a more condensed price distribution, majority of the houses placed in the middle range."
   ]
  },
  {
   "cell_type": "code",
   "execution_count": null,
   "id": "f916d816-53e1-47f8-b9cb-7b391bcbf15d",
   "metadata": {},
   "outputs": [],
   "source": [
    "sns.barplot(data=df_filtered, x='condition', y='price', palette=\"coolwarm\")\n",
    "plt.show()"
   ]
  },
  {
   "cell_type": "code",
   "execution_count": null,
   "id": "a2332236-48f9-4fa2-bbb0-ee0f0cd1a4b0",
   "metadata": {},
   "outputs": [],
   "source": [
    "#category 5 has the highest average price, category 1 has the lowest average house price among all the categories."
   ]
  },
  {
   "cell_type": "code",
   "execution_count": null,
   "id": "7eddbb08-18ae-4561-85be-6535c66ebb68",
   "metadata": {},
   "outputs": [],
   "source": [
    "#Calculate average price for each city\n",
    "avg_price_city=df_filtered.groupby('city')['price'].mean()"
   ]
  },
  {
   "cell_type": "code",
   "execution_count": null,
   "id": "a73f7d07-d3cf-47fd-9f36-3cf4df139eab",
   "metadata": {},
   "outputs": [],
   "source": [
    "avg_price_city"
   ]
  },
  {
   "cell_type": "code",
   "execution_count": null,
   "id": "da719e9c-2707-4339-899f-7ba11995fc3f",
   "metadata": {},
   "outputs": [],
   "source": [
    "top_10_df = avg_price_city.sort_values(ascending=False).head(10).reset_index()\n",
    "top_10_df.columns = ['city', 'avg_price']  # Rename columns\n",
    "\n",
    "# Now plot with seaborn\n",
    "sns.barplot(data=top_10_df, x='city', y='avg_price', palette=\"Set3\")\n",
    "plt.xticks(rotation=90)\n",
    "plt.ylabel(\"Average House Price\")\n",
    "plt.show()"
   ]
  },
  {
   "cell_type": "code",
   "execution_count": null,
   "id": "5a01bd8a-7f98-4c5c-b330-da28e629091f",
   "metadata": {},
   "outputs": [],
   "source": [
    "#Scatter-Plot for price and sqft living area\n"
   ]
  },
  {
   "cell_type": "code",
   "execution_count": null,
   "id": "86c70644-5c18-4c1c-b89e-6913bc5f9abe",
   "metadata": {},
   "outputs": [],
   "source": [
    "sns.scatterplot(data=df_filtered, x='sqft_living', y='price')\n",
    "plt.gca().yaxis.set_major_formatter('${x:,.0f}')\n",
    "plt.show()"
   ]
  },
  {
   "cell_type": "code",
   "execution_count": null,
   "id": "9dcb6339-0717-477f-bb34-ff5ce537904a",
   "metadata": {},
   "outputs": [],
   "source": [
    "# Calculating the Pearson correlation coefficient between 'SalePrice' and 'GrLivArea' columns\n",
    "correlation = df['price'].corr(df['sqft_living'])\n",
    "correlation"
   ]
  },
  {
   "cell_type": "code",
   "execution_count": null,
   "id": "66ba8ba5-975c-41fe-a530-a2ad47bc7928",
   "metadata": {},
   "outputs": [],
   "source": [
    "correlation = df_filtered['price'].corr(df['sqft_living'])\n",
    "correlation"
   ]
  },
  {
   "cell_type": "code",
   "execution_count": null,
   "id": "56a90d9e-57b9-430d-9367-3163276e3944",
   "metadata": {},
   "outputs": [],
   "source": [
    "# Calculating the Spearman rank correlation between 'SalePrice' and 'GrLivArea' \n",
    "correlation = df['price'].corr(df['sqft_living'], method='spearman')\n",
    "correlation"
   ]
  },
  {
   "cell_type": "code",
   "execution_count": null,
   "id": "93055a9d-d9a9-42f0-84ab-23d74a819247",
   "metadata": {},
   "outputs": [],
   "source": [
    "correlation = df_filtered['price'].corr(df['sqft_living'], method='spearman')\n",
    "correlation"
   ]
  },
  {
   "cell_type": "code",
   "execution_count": null,
   "id": "3c49eb5c-7988-4d6c-be4d-d070cc3130a6",
   "metadata": {},
   "outputs": [],
   "source": [
    "# Calculating the Spearman correlation coefficients between 'SalePrice' and all other numerical variables\n",
    "spearman_correlations = df_numerical.corrwith(df['price'], method='spearman')\n",
    "\n",
    "# Sorting the correlations for better visualization\n",
    "spearman_correlations_sorted = spearman_correlations.sort_values(ascending=False)\n",
    "\n",
    "# Displaying the correlations\n",
    "spearman_correlations_sorted"
   ]
  },
  {
   "cell_type": "code",
   "execution_count": null,
   "id": "97380576-28ce-4bda-b507-f415314183ac",
   "metadata": {},
   "outputs": [],
   "source": [
    "correlation_matrix = df_numerical.corr()\n",
    "\n",
    "# Setting up the matplotlib figure with an appropriate size\n",
    "plt.figure(figsize=(18, 15))\n",
    "\n",
    "# Drawing the heatmap for the numerical columns\n",
    "sns.heatmap(correlation_matrix, annot=True, cmap=\"coolwarm\")\n",
    "\n",
    "plt.title(\"Correlation Heatmap for Selected Numerical Variables\")\n",
    "plt.show()"
   ]
  },
  {
   "cell_type": "code",
   "execution_count": null,
   "id": "5eef84b0-fd5d-49ed-bb5c-e87c0d7e5aae",
   "metadata": {},
   "outputs": [],
   "source": [
    "df.to_csv(\"cleaned_US_housing_data.csv\", index=False)"
   ]
  },
  {
   "cell_type": "code",
   "execution_count": null,
   "id": "80b20baf-c237-4c8e-a516-6aadc3326325",
   "metadata": {},
   "outputs": [],
   "source": [
    "sns.scatterplot(data=df_filtered, x='yr_built', y='price')\n",
    "plt.gca().yaxis.set_major_formatter('${x:,.0f}')\n",
    "plt.show()"
   ]
  },
  {
   "cell_type": "code",
   "execution_count": null,
   "id": "95e9c14c-e488-4a05-9936-d57eb8a9d1fb",
   "metadata": {},
   "outputs": [],
   "source": [
    "sns.scatterplot(data=df_filtered, x='yr_renovated', y='price')\n",
    "plt.gca().yaxis.set_major_formatter('${x:,.0f}')\n",
    "plt.show()"
   ]
  },
  {
   "cell_type": "code",
   "execution_count": null,
   "id": "6c5c371a-95d4-4c35-8dd3-c02570414f39",
   "metadata": {},
   "outputs": [],
   "source": [
    "sns.scatterplot(data=df_filtered, x='sqft_above', y='price')\n",
    "plt.gca().yaxis.set_major_formatter('${x:,.0f}')\n",
    "plt.show()"
   ]
  },
  {
   "cell_type": "code",
   "execution_count": null,
   "id": "4c17f035-39b3-435f-aa55-8efccf5a4b62",
   "metadata": {},
   "outputs": [],
   "source": [
    "# Plotting a line graph to visualize the trend of average 'SalePrice' across different 'YearBuilt'\n",
    "plt.figure(figsize=(14, 7))\n",
    "sns.lineplot(data=df_filtered, x='yr_built', y='price', ci=None)\n",
    "plt.title('Average Sale Price over Years of Construction')\n",
    "plt.grid(True, which='both', linestyle='--', linewidth=0.5)\n",
    "plt.show()"
   ]
  },
  {
   "cell_type": "code",
   "execution_count": null,
   "id": "77e4b624-094e-44b8-931d-a5ef09d6ce41",
   "metadata": {},
   "outputs": [],
   "source": [
    "sns.boxplot(data=df_filtered, x='condition', y='sqft_above', palette=\"coolwarm\")\n",
    "plt.show()"
   ]
  },
  {
   "cell_type": "code",
   "execution_count": null,
   "id": "10cf21e8-095a-45b8-8870-6cd60428fd2c",
   "metadata": {},
   "outputs": [],
   "source": [
    "#water front houses and price\n",
    "# Calculate average prices\n",
    "avg_prices = df.groupby('waterfront')['price'].mean().reset_index()\n",
    "avg_prices['waterfront'] = avg_prices['waterfront'].map({0: 'Non-Waterfront', 1: 'Waterfront'})  # Convert labels\n",
    "print(avg_prices)"
   ]
  },
  {
   "cell_type": "code",
   "execution_count": null,
   "id": "0cc44228-e9f3-4a94-a1e7-c9db9d3c66c4",
   "metadata": {},
   "outputs": [],
   "source": [
    "sns.barplot(data=avg_prices, x='waterfront', y='price', palette=\"coolwarm\")\n",
    "plt.gca().yaxis.set_major_formatter('${x:,.0f}')\n",
    "plt.show()"
   ]
  },
  {
   "cell_type": "code",
   "execution_count": null,
   "id": "5e360caf-0b84-46bd-a1c6-2a3c2145cfd4",
   "metadata": {},
   "outputs": [],
   "source": [
    "df_filtered.to_csv(\"cleaned_US_housing_data.csv\", index=False)"
   ]
  },
  {
   "cell_type": "code",
   "execution_count": null,
   "id": "7dbb6ae9-80b0-4368-962f-88ec85ff2bab",
   "metadata": {},
   "outputs": [],
   "source": [
    "price_stats = df['price'].describe()\n",
    "print(price_stats)"
   ]
  }
 ],
 "metadata": {
  "kernelspec": {
   "display_name": "Python 3",
   "language": "python",
   "name": "python3"
  },
  "language_info": {
   "codemirror_mode": {
    "name": "ipython",
    "version": 3
   },
   "file_extension": ".py",
   "mimetype": "text/x-python",
   "name": "python",
   "nbconvert_exporter": "python",
   "pygments_lexer": "ipython3",
   "version": "3.13.5"
  }
 },
 "nbformat": 4,
 "nbformat_minor": 5
}
